{
 "cells": [
  {
   "cell_type": "code",
   "execution_count": 2,
   "id": "7212acdd",
   "metadata": {},
   "outputs": [],
   "source": [
    "import cv2, pickle, numpy, socket\n",
    "sock = socket.socket(socket.AF_INET, socket.SOCK_STREAM)\n",
    "ip = \"0.0.0.0\"\n",
    "port = 7070\n",
    "sock.bind((ip, port))"
   ]
  },
  {
   "cell_type": "code",
   "execution_count": 4,
   "id": "7c493332",
   "metadata": {},
   "outputs": [],
   "source": [
    "#sock.listen()"
   ]
  },
  {
   "cell_type": "code",
   "execution_count": null,
   "id": "0fd922df",
   "metadata": {},
   "outputs": [],
   "source": [
    "cap = cv2.VideoCapture(1)\n",
    "ret, photo = cap.read()\n",
    "print(photo)\n",
    "cap.release()"
   ]
  }
 ],
 "metadata": {
  "kernelspec": {
   "display_name": "Python 3",
   "language": "python",
   "name": "python3"
  },
  "language_info": {
   "codemirror_mode": {
    "name": "ipython",
    "version": 3
   },
   "file_extension": ".py",
   "mimetype": "text/x-python",
   "name": "python",
   "nbconvert_exporter": "python",
   "pygments_lexer": "ipython3",
   "version": "3.8.10"
  }
 },
 "nbformat": 4,
 "nbformat_minor": 5
}
